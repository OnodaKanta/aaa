{
 "cells": [
  {
   "cell_type": "code",
   "execution_count": null,
   "metadata": {},
   "outputs": [],
   "source": [
    "using Test # @testマクロを使うため\n",
    "\n",
    "function myiseven(x::Int)\n",
    "    return x % 2 == 0\n",
    "end\n",
    "\n",
    "@test myiseven(1) == false\n",
    "@test myiseven(2) == true\n",
    "@test myiseven(3) == false"
   ]
  }
 ],
 "metadata": {
  "language_info": {
   "name": "python"
  }
 },
 "nbformat": 4,
 "nbformat_minor": 2
}
